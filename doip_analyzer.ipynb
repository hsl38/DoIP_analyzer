{
 "cells": [
  {
   "cell_type": "markdown",
   "id": "bd19566a",
   "metadata": {},
   "source": [
    "# 이더넷 통신을 측정한 asc 파일 처리\n",
    "- 내용을 확인한다.\n",
    "- 어떤 식으로 처리할 지 생각한다. \n"
   ]
  },
  {
   "cell_type": "code",
   "execution_count": 1,
   "id": "b40e0ea4",
   "metadata": {},
   "outputs": [],
   "source": [
    "# import\n",
    "from pathlib import Path\n",
    "import pandas as pd"
   ]
  },
  {
   "cell_type": "code",
   "execution_count": 2,
   "id": "2563c913",
   "metadata": {},
   "outputs": [],
   "source": [
    "# asc 파일을 줄 별로 읽어오기\n",
    "dir_asc = Path('.').absolute()/'asc'\n",
    "file_asc = dir_asc/'Logging.asc'\n",
    "with open(file_asc, \"r\") as file:\n",
    "    lines = file.readlines()"
   ]
  },
  {
   "cell_type": "code",
   "execution_count": 3,
   "id": "f6678452",
   "metadata": {},
   "outputs": [
    {
     "data": {
      "text/plain": [
       "['date Fri Sep 13 03:40:25.108 pm 2024\\n',\n",
       " 'base hex  timestamps absolute\\n',\n",
       " 'internal events logged\\n',\n",
       " '// version 16.2.0\\n',\n",
       " '// Measurement UUID: b9330f6a-051b-4f4d-a967-2c68124e7f7b\\n',\n",
       " 'Begin TriggerBlock Fri Sep 13 03:40:25.108 pm 2024\\n',\n",
       " '   0.000000 Start of measurement\\n',\n",
       " '   0.000471 ETH 1 STAT Link:Link_up Ports:ECU\\n',\n",
       " '   0.000867 ETH 1 STAT Link:Link_up LinkSpeed:100Mbit/s Physical:IEEE802.3 Duplex:Full MDI:Crossover Connector:RJ45 Ports:Port5\\n',\n",
       " '   0.001011 ETH 1 STAT Link:Link_down Connector:RJ45 Ports:Port6\\n',\n",
       " '   0.040818 ETH 1 BUSSTATISTIC HwRxPkts:0 HwTxPkts:0 HwRxError:0 HwTxError:0 HwRxBytes:0 HwTxBytes:0 HwRxNoBuffer:0 HwSQIValue:6 Ports:ECU\\n',\n",
       " '   0.100574 ETH 1 BUSSTATISTIC HwRxPkts:0 HwTxPkts:0 HwRxError:0 HwTxError:0 HwRxBytes:0 HwTxBytes:0 HwRxNoBuffer:0 HwSQIValue:6 Ports:Port5\\n',\n",
       " '   0.100695 ETH 1 BUSSTATISTIC HwRxPkts:0 HwTxPkts:0 HwRxError:0 HwTxError:0 HwRxBytes:0 HwTxBytes:0 HwRxNoBuffer:0 HwSQIValue:6 Ports:Port6\\n',\n",
       " '   0.140818 ETH 1 BUSSTATISTIC HwRxPkts:0 HwTxPkts:0 HwRxError:0 HwTxError:0 HwRxBytes:0 HwTxBytes:0 HwRxNoBuffer:0 HwSQIValue:6 Ports:ECU\\n',\n",
       " '   0.161434  ETH 1 Rx     42:FFFFFFFFFFFF0200000010018100E006080045000030684900004011664EC6122001C612FFFFC351C351001CC3C8FFFFFF010000000CFF01060E0306010001000000 FCS:233b7b26 Ports:Port5 Sim:0\\n',\n",
       " '   0.161434  ETH 1 Tx     42:FFFFFFFFFFFF0200000010018100E006080045000030684900004011664EC6122001C612FFFFC351C351001CC3C8FFFFFF010000000CFF01060E0306010001000000 Ports:ECU Sim:0\\n',\n",
       " '   0.200575 ETH 1 BUSSTATISTIC HwRxPkts:1 HwTxPkts:0 HwRxError:0 HwTxError:0 HwRxBytes:78 HwTxBytes:0 HwRxNoBuffer:0 HwSQIValue:6 Ports:Port5\\n',\n",
       " '   0.200696 ETH 1 BUSSTATISTIC HwRxPkts:0 HwTxPkts:0 HwRxError:0 HwTxError:1 HwRxBytes:0 HwTxBytes:77 HwRxNoBuffer:0 HwSQIValue:6 Ports:Port6\\n',\n",
       " '   0.240819 ETH 1 BUSSTATISTIC HwRxPkts:0 HwTxPkts:1 HwRxError:0 HwTxError:0 HwRxBytes:0 HwTxBytes:78 HwRxNoBuffer:0 HwSQIValue:6 Ports:ECU\\n',\n",
       " '   0.300576 ETH 1 BUSSTATISTIC HwRxPkts:0 HwTxPkts:0 HwRxError:0 HwTxError:0 HwRxBytes:0 HwTxBytes:0 HwRxNoBuffer:0 HwSQIValue:6 Ports:Port5\\n',\n",
       " '   0.300697 ETH 1 BUSSTATISTIC HwRxPkts:0 HwTxPkts:0 HwRxError:0 HwTxError:0 HwRxBytes:0 HwTxBytes:0 HwRxNoBuffer:0 HwSQIValue:6 Ports:Port6\\n',\n",
       " '   0.340820 ETH 1 BUSSTATISTIC HwRxPkts:0 HwTxPkts:0 HwRxError:0 HwTxError:0 HwRxBytes:0 HwTxBytes:0 HwRxNoBuffer:0 HwSQIValue:6 Ports:ECU\\n',\n",
       " '   0.400576 ETH 1 BUSSTATISTIC HwRxPkts:0 HwTxPkts:0 HwRxError:0 HwTxError:0 HwRxBytes:0 HwTxBytes:0 HwRxNoBuffer:0 HwSQIValue:6 Ports:Port5\\n',\n",
       " '   0.400697 ETH 1 BUSSTATISTIC HwRxPkts:0 HwTxPkts:0 HwRxError:0 HwTxError:0 HwRxBytes:0 HwTxBytes:0 HwRxNoBuffer:0 HwSQIValue:6 Ports:Port6\\n',\n",
       " '   0.440821 ETH 1 BUSSTATISTIC HwRxPkts:0 HwTxPkts:0 HwRxError:0 HwTxError:0 HwRxBytes:0 HwTxBytes:0 HwRxNoBuffer:0 HwSQIValue:6 Ports:ECU\\n']"
      ]
     },
     "execution_count": 3,
     "metadata": {},
     "output_type": "execute_result"
    }
   ],
   "source": [
    "lines[:25] # Display the first 25 lines for verification"
   ]
  },
  {
   "cell_type": "code",
   "execution_count": 4,
   "id": "30224b7c",
   "metadata": {},
   "outputs": [],
   "source": [
    "# 분석 대상 라인들만 추출하기\n",
    "lines_oi = []\n",
    "elements_oi = []\n",
    "for line in lines:\n",
    "    elements = line.strip().split()\n",
    "\n",
    "    interesting = True\n",
    "\n",
    "    # 첫 element가 타임스탬트가 아니면 분석 대상이 아니다. \n",
    "    try:\n",
    "        ts = float(elements[0])\n",
    "    except ValueError:\n",
    "        interesting = False\n",
    "\n",
    "    # Start, STAT, BUSSTATISTIC가 포함된 라인은 분석 대상이 아니다. \n",
    "    for element in elements:\n",
    "        if 'Start' in elements or 'STAT' in element or 'BUSSTATISTIC' in element:\n",
    "            interesting = False\n",
    "            break\n",
    "\n",
    "    # 분석 대상을 lines_oi에 추가한다.\n",
    "    if interesting:\n",
    "\n",
    "        # 3번째 element가 Tx인 경우 FCS를 추가한다.\n",
    "        if elements[3] == 'Tx':\n",
    "            elements.insert(5, 'FCS:00000000')\n",
    "\n",
    "        elements_oi.append(elements)\n",
    "        lines_oi.append(line.strip())\n",
    "\n",
    "file_new_asc = file_asc.with_suffix('.new.asc')\n",
    "with open(file_new_asc, \"w\") as file:\n",
    "    for line in lines_oi:\n",
    "        file.write(line + \"\\n\")\n"
   ]
  },
  {
   "cell_type": "code",
   "execution_count": 5,
   "id": "21dc8c06",
   "metadata": {},
   "outputs": [
    {
     "data": {
      "text/plain": [
       "[['0.161434',\n",
       "  'ETH',\n",
       "  '1',\n",
       "  'Rx',\n",
       "  '42:FFFFFFFFFFFF0200000010018100E006080045000030684900004011664EC6122001C612FFFFC351C351001CC3C8FFFFFF010000000CFF01060E0306010001000000',\n",
       "  'FCS:233b7b26',\n",
       "  'Ports:Port5',\n",
       "  'Sim:0'],\n",
       " ['0.161434',\n",
       "  'ETH',\n",
       "  '1',\n",
       "  'Tx',\n",
       "  '42:FFFFFFFFFFFF0200000010018100E006080045000030684900004011664EC6122001C612FFFFC351C351001CC3C8FFFFFF010000000CFF01060E0306010001000000',\n",
       "  'FCS:00000000',\n",
       "  'Ports:ECU',\n",
       "  'Sim:0'],\n",
       " ['1.161448',\n",
       "  'ETH',\n",
       "  '1',\n",
       "  'Rx',\n",
       "  '42:FFFFFFFFFFFF0200000010018100E006080045000030684A00004011664DC6122001C612FFFFC351C351001CC3C7FFFFFF010000000CFF01060F0306010001000000',\n",
       "  'FCS:eb00c426',\n",
       "  'Ports:Port5',\n",
       "  'Sim:0'],\n",
       " ['1.161449',\n",
       "  'ETH',\n",
       "  '1',\n",
       "  'Tx',\n",
       "  '42:FFFFFFFFFFFF0200000010018100E006080045000030684A00004011664DC6122001C612FFFFC351C351001CC3C7FFFFFF010000000CFF01060F0306010001000000',\n",
       "  'FCS:00000000',\n",
       "  'Ports:ECU',\n",
       "  'Sim:0'],\n",
       " ['2.161462',\n",
       "  'ETH',\n",
       "  '1',\n",
       "  'Rx',\n",
       "  '42:FFFFFFFFFFFF0200000010018100E006080045000030684B00004011664CC6122001C612FFFFC351C351001CC3C6FFFFFF010000000CFF0106100306010001000000',\n",
       "  'FCS:c0402bfc',\n",
       "  'Ports:Port5',\n",
       "  'Sim:0']]"
      ]
     },
     "execution_count": 5,
     "metadata": {},
     "output_type": "execute_result"
    }
   ],
   "source": [
    "elements_oi[:5] # Display the first 5 elements for verification"
   ]
  },
  {
   "cell_type": "code",
   "execution_count": 6,
   "id": "f28cdd49",
   "metadata": {},
   "outputs": [],
   "source": [
    "# list를 DataFrame으로 변환하기\n",
    "df = pd.DataFrame(elements_oi, columns=['ts', 'type', 'ch', 'tx_rx', 'data', 'fcs', 'port', 'sim'])\n",
    "df['ts'] = df['ts'].astype(float)\n",
    "df['ch'] = df['ch'].astype(int)"
   ]
  },
  {
   "cell_type": "code",
   "execution_count": 7,
   "id": "de96fd18",
   "metadata": {},
   "outputs": [
    {
     "data": {
      "application/vnd.microsoft.datawrangler.viewer.v0+json": {
       "columns": [
        {
         "name": "index",
         "rawType": "int64",
         "type": "integer"
        },
        {
         "name": "ts",
         "rawType": "float64",
         "type": "float"
        },
        {
         "name": "type",
         "rawType": "object",
         "type": "string"
        },
        {
         "name": "ch",
         "rawType": "int64",
         "type": "integer"
        },
        {
         "name": "tx_rx",
         "rawType": "object",
         "type": "string"
        },
        {
         "name": "data",
         "rawType": "object",
         "type": "string"
        },
        {
         "name": "fcs",
         "rawType": "object",
         "type": "string"
        },
        {
         "name": "port",
         "rawType": "object",
         "type": "string"
        },
        {
         "name": "sim",
         "rawType": "object",
         "type": "string"
        }
       ],
       "conversionMethod": "pd.DataFrame",
       "ref": "c8ae0e41-a345-4324-b6ad-264ed78f083a",
       "rows": [
        [
         "0",
         "0.161434",
         "ETH",
         "1",
         "Rx",
         "42:FFFFFFFFFFFF0200000010018100E006080045000030684900004011664EC6122001C612FFFFC351C351001CC3C8FFFFFF010000000CFF01060E0306010001000000",
         "FCS:233b7b26",
         "Ports:Port5",
         "Sim:0"
        ],
        [
         "1",
         "0.161434",
         "ETH",
         "1",
         "Tx",
         "42:FFFFFFFFFFFF0200000010018100E006080045000030684900004011664EC6122001C612FFFFC351C351001CC3C8FFFFFF010000000CFF01060E0306010001000000",
         "FCS:00000000",
         "Ports:ECU",
         "Sim:0"
        ],
        [
         "2",
         "1.161448",
         "ETH",
         "1",
         "Rx",
         "42:FFFFFFFFFFFF0200000010018100E006080045000030684A00004011664DC6122001C612FFFFC351C351001CC3C7FFFFFF010000000CFF01060F0306010001000000",
         "FCS:eb00c426",
         "Ports:Port5",
         "Sim:0"
        ],
        [
         "3",
         "1.161449",
         "ETH",
         "1",
         "Tx",
         "42:FFFFFFFFFFFF0200000010018100E006080045000030684A00004011664DC6122001C612FFFFC351C351001CC3C7FFFFFF010000000CFF01060F0306010001000000",
         "FCS:00000000",
         "Ports:ECU",
         "Sim:0"
        ],
        [
         "4",
         "2.161462",
         "ETH",
         "1",
         "Rx",
         "42:FFFFFFFFFFFF0200000010018100E006080045000030684B00004011664CC6122001C612FFFFC351C351001CC3C6FFFFFF010000000CFF0106100306010001000000",
         "FCS:c0402bfc",
         "Ports:Port5",
         "Sim:0"
        ]
       ],
       "shape": {
        "columns": 8,
        "rows": 5
       }
      },
      "text/html": [
       "<div>\n",
       "<style scoped>\n",
       "    .dataframe tbody tr th:only-of-type {\n",
       "        vertical-align: middle;\n",
       "    }\n",
       "\n",
       "    .dataframe tbody tr th {\n",
       "        vertical-align: top;\n",
       "    }\n",
       "\n",
       "    .dataframe thead th {\n",
       "        text-align: right;\n",
       "    }\n",
       "</style>\n",
       "<table border=\"1\" class=\"dataframe\">\n",
       "  <thead>\n",
       "    <tr style=\"text-align: right;\">\n",
       "      <th></th>\n",
       "      <th>ts</th>\n",
       "      <th>type</th>\n",
       "      <th>ch</th>\n",
       "      <th>tx_rx</th>\n",
       "      <th>data</th>\n",
       "      <th>fcs</th>\n",
       "      <th>port</th>\n",
       "      <th>sim</th>\n",
       "    </tr>\n",
       "  </thead>\n",
       "  <tbody>\n",
       "    <tr>\n",
       "      <th>0</th>\n",
       "      <td>0.161434</td>\n",
       "      <td>ETH</td>\n",
       "      <td>1</td>\n",
       "      <td>Rx</td>\n",
       "      <td>42:FFFFFFFFFFFF0200000010018100E00608004500003...</td>\n",
       "      <td>FCS:233b7b26</td>\n",
       "      <td>Ports:Port5</td>\n",
       "      <td>Sim:0</td>\n",
       "    </tr>\n",
       "    <tr>\n",
       "      <th>1</th>\n",
       "      <td>0.161434</td>\n",
       "      <td>ETH</td>\n",
       "      <td>1</td>\n",
       "      <td>Tx</td>\n",
       "      <td>42:FFFFFFFFFFFF0200000010018100E00608004500003...</td>\n",
       "      <td>FCS:00000000</td>\n",
       "      <td>Ports:ECU</td>\n",
       "      <td>Sim:0</td>\n",
       "    </tr>\n",
       "    <tr>\n",
       "      <th>2</th>\n",
       "      <td>1.161448</td>\n",
       "      <td>ETH</td>\n",
       "      <td>1</td>\n",
       "      <td>Rx</td>\n",
       "      <td>42:FFFFFFFFFFFF0200000010018100E00608004500003...</td>\n",
       "      <td>FCS:eb00c426</td>\n",
       "      <td>Ports:Port5</td>\n",
       "      <td>Sim:0</td>\n",
       "    </tr>\n",
       "    <tr>\n",
       "      <th>3</th>\n",
       "      <td>1.161449</td>\n",
       "      <td>ETH</td>\n",
       "      <td>1</td>\n",
       "      <td>Tx</td>\n",
       "      <td>42:FFFFFFFFFFFF0200000010018100E00608004500003...</td>\n",
       "      <td>FCS:00000000</td>\n",
       "      <td>Ports:ECU</td>\n",
       "      <td>Sim:0</td>\n",
       "    </tr>\n",
       "    <tr>\n",
       "      <th>4</th>\n",
       "      <td>2.161462</td>\n",
       "      <td>ETH</td>\n",
       "      <td>1</td>\n",
       "      <td>Rx</td>\n",
       "      <td>42:FFFFFFFFFFFF0200000010018100E00608004500003...</td>\n",
       "      <td>FCS:c0402bfc</td>\n",
       "      <td>Ports:Port5</td>\n",
       "      <td>Sim:0</td>\n",
       "    </tr>\n",
       "  </tbody>\n",
       "</table>\n",
       "</div>"
      ],
      "text/plain": [
       "         ts type  ch tx_rx                                               data  \\\n",
       "0  0.161434  ETH   1    Rx  42:FFFFFFFFFFFF0200000010018100E00608004500003...   \n",
       "1  0.161434  ETH   1    Tx  42:FFFFFFFFFFFF0200000010018100E00608004500003...   \n",
       "2  1.161448  ETH   1    Rx  42:FFFFFFFFFFFF0200000010018100E00608004500003...   \n",
       "3  1.161449  ETH   1    Tx  42:FFFFFFFFFFFF0200000010018100E00608004500003...   \n",
       "4  2.161462  ETH   1    Rx  42:FFFFFFFFFFFF0200000010018100E00608004500003...   \n",
       "\n",
       "            fcs         port    sim  \n",
       "0  FCS:233b7b26  Ports:Port5  Sim:0  \n",
       "1  FCS:00000000    Ports:ECU  Sim:0  \n",
       "2  FCS:eb00c426  Ports:Port5  Sim:0  \n",
       "3  FCS:00000000    Ports:ECU  Sim:0  \n",
       "4  FCS:c0402bfc  Ports:Port5  Sim:0  "
      ]
     },
     "execution_count": 7,
     "metadata": {},
     "output_type": "execute_result"
    }
   ],
   "source": [
    "df.head(5) # Display the first 5 rows for verification"
   ]
  },
  {
   "cell_type": "markdown",
   "id": "d35b0ab9",
   "metadata": {},
   "source": [
    "## 분석을 바탕으로 asc 파일을 처리하는 함수를 만든다."
   ]
  },
  {
   "cell_type": "code",
   "execution_count": 8,
   "id": "e8acdf04",
   "metadata": {},
   "outputs": [],
   "source": [
    "def extract_lines_oi_from_asc(file_asc: Path):\n",
    "    \"\"\"\n",
    "    Extract lines of interest from an ASC file.\n",
    "    \n",
    "    Parameters:\n",
    "    file_asc (Path): Path to the input ASC file.\n",
    "    \n",
    "    Returns:\n",
    "    list: Lines of interest extracted from the ASC file.\n",
    "    \"\"\"\n",
    "    with open(file_asc, \"r\") as file:\n",
    "        lines = file.readlines()\n",
    "\n",
    "    lines_oi = []\n",
    "    elements_oi = []\n",
    "    for line in lines:\n",
    "        elements = line.strip().split()\n",
    "\n",
    "        interesting = True\n",
    "\n",
    "        # 첫 element가 타임스탬트가 아니면 분석 대상이 아니다. \n",
    "        try:\n",
    "            ts = float(elements[0])\n",
    "        except ValueError:\n",
    "            interesting = False\n",
    "\n",
    "        # Start, STAT, BUSSTATISTIC가 포함된 라인은 분석 대상이 아니다. \n",
    "        for element in elements:\n",
    "            if 'Start' in elements or 'STAT' in element or 'BUSSTATISTIC' in element:\n",
    "                interesting = False\n",
    "                break\n",
    "\n",
    "        # 분석 대상을 lines_oi에 추가한다.\n",
    "        if interesting:\n",
    "\n",
    "            # 3번째 element가 Tx인 경우 FCS를 추가한다.\n",
    "            if elements[3] == 'Tx':\n",
    "                fcs_found = False\n",
    "                for element in elements[4:]:\n",
    "                    if 'FCS' in element:\n",
    "                        fcs_found = True\n",
    "                        break\n",
    "\n",
    "                if not fcs_found:\n",
    "                    elements.insert(5, 'FCS:00000000')\n",
    "\n",
    "            elements_oi.append(elements)\n",
    "            lines_oi.append(line.strip())\n",
    "\n",
    "    return lines_oi, elements_oi"
   ]
  },
  {
   "cell_type": "code",
   "execution_count": 9,
   "id": "a7dcfbb9",
   "metadata": {},
   "outputs": [],
   "source": [
    "def lines_oi_to_new_asc_and_xlsx(file_asc: Path):\n",
    "    \"\"\"\n",
    "    Convert an ASC file to an XLSX file.\n",
    "    \n",
    "    Parameters:\n",
    "    asc_file (Path): Path to the input ASC file.\n",
    "    \"\"\"\n",
    "    lines_oi, elements_oi = extract_lines_oi_from_asc(file_asc)\n",
    "\n",
    "    file_new_asc = file_asc.with_suffix('.new.asc')\n",
    "    with open(file_new_asc, \"w\") as file:\n",
    "        for line in lines_oi:\n",
    "            file.write(line + \"\\n\")\n",
    "\n",
    "    # list를 DataFrame으로 변환하기\n",
    "    df = pd.DataFrame(elements_oi, columns=['ts', 'type', 'ch', 'tx_rx', 'data', 'fcs', 'port', 'sim'])\n",
    "    df['ts'] = df['ts'].astype(float)\n",
    "    df['ch'] = df['ch'].astype(int)\n",
    "\n",
    "    # Save DataFrame to XLSX file\n",
    "    df.to_excel(file_new_asc.with_suffix('.xlsx'), index=False)\n",
    "\n",
    "    return df"
   ]
  },
  {
   "cell_type": "markdown",
   "id": "d4d34c33",
   "metadata": {},
   "source": [
    "## Logging.asc 처리"
   ]
  },
  {
   "cell_type": "code",
   "execution_count": 10,
   "id": "37e910c7",
   "metadata": {},
   "outputs": [],
   "source": [
    "file_asc = Path('.').absolute()/'asc'/'Logging.asc'\n",
    "df = lines_oi_to_new_asc_and_xlsx(file_asc)"
   ]
  },
  {
   "cell_type": "code",
   "execution_count": 11,
   "id": "11599f2c",
   "metadata": {},
   "outputs": [
    {
     "data": {
      "application/vnd.microsoft.datawrangler.viewer.v0+json": {
       "columns": [
        {
         "name": "index",
         "rawType": "int64",
         "type": "integer"
        },
        {
         "name": "ts",
         "rawType": "float64",
         "type": "float"
        },
        {
         "name": "type",
         "rawType": "object",
         "type": "string"
        },
        {
         "name": "ch",
         "rawType": "int64",
         "type": "integer"
        },
        {
         "name": "tx_rx",
         "rawType": "object",
         "type": "string"
        },
        {
         "name": "data",
         "rawType": "object",
         "type": "string"
        },
        {
         "name": "fcs",
         "rawType": "object",
         "type": "string"
        },
        {
         "name": "port",
         "rawType": "object",
         "type": "string"
        },
        {
         "name": "sim",
         "rawType": "object",
         "type": "string"
        }
       ],
       "conversionMethod": "pd.DataFrame",
       "ref": "08bd8103-d126-4ef4-a887-1c66b0aa46b7",
       "rows": [
        [
         "0",
         "0.161434",
         "ETH",
         "1",
         "Rx",
         "42:FFFFFFFFFFFF0200000010018100E006080045000030684900004011664EC6122001C612FFFFC351C351001CC3C8FFFFFF010000000CFF01060E0306010001000000",
         "FCS:233b7b26",
         "Ports:Port5",
         "Sim:0"
        ],
        [
         "1",
         "0.161434",
         "ETH",
         "1",
         "Tx",
         "42:FFFFFFFFFFFF0200000010018100E006080045000030684900004011664EC6122001C612FFFFC351C351001CC3C8FFFFFF010000000CFF01060E0306010001000000",
         "FCS:00000000",
         "Ports:ECU",
         "Sim:0"
        ],
        [
         "2",
         "1.161448",
         "ETH",
         "1",
         "Rx",
         "42:FFFFFFFFFFFF0200000010018100E006080045000030684A00004011664DC6122001C612FFFFC351C351001CC3C7FFFFFF010000000CFF01060F0306010001000000",
         "FCS:eb00c426",
         "Ports:Port5",
         "Sim:0"
        ],
        [
         "3",
         "1.161449",
         "ETH",
         "1",
         "Tx",
         "42:FFFFFFFFFFFF0200000010018100E006080045000030684A00004011664DC6122001C612FFFFC351C351001CC3C7FFFFFF010000000CFF01060F0306010001000000",
         "FCS:00000000",
         "Ports:ECU",
         "Sim:0"
        ],
        [
         "4",
         "2.161462",
         "ETH",
         "1",
         "Rx",
         "42:FFFFFFFFFFFF0200000010018100E006080045000030684B00004011664CC6122001C612FFFFC351C351001CC3C6FFFFFF010000000CFF0106100306010001000000",
         "FCS:c0402bfc",
         "Ports:Port5",
         "Sim:0"
        ]
       ],
       "shape": {
        "columns": 8,
        "rows": 5
       }
      },
      "text/html": [
       "<div>\n",
       "<style scoped>\n",
       "    .dataframe tbody tr th:only-of-type {\n",
       "        vertical-align: middle;\n",
       "    }\n",
       "\n",
       "    .dataframe tbody tr th {\n",
       "        vertical-align: top;\n",
       "    }\n",
       "\n",
       "    .dataframe thead th {\n",
       "        text-align: right;\n",
       "    }\n",
       "</style>\n",
       "<table border=\"1\" class=\"dataframe\">\n",
       "  <thead>\n",
       "    <tr style=\"text-align: right;\">\n",
       "      <th></th>\n",
       "      <th>ts</th>\n",
       "      <th>type</th>\n",
       "      <th>ch</th>\n",
       "      <th>tx_rx</th>\n",
       "      <th>data</th>\n",
       "      <th>fcs</th>\n",
       "      <th>port</th>\n",
       "      <th>sim</th>\n",
       "    </tr>\n",
       "  </thead>\n",
       "  <tbody>\n",
       "    <tr>\n",
       "      <th>0</th>\n",
       "      <td>0.161434</td>\n",
       "      <td>ETH</td>\n",
       "      <td>1</td>\n",
       "      <td>Rx</td>\n",
       "      <td>42:FFFFFFFFFFFF0200000010018100E00608004500003...</td>\n",
       "      <td>FCS:233b7b26</td>\n",
       "      <td>Ports:Port5</td>\n",
       "      <td>Sim:0</td>\n",
       "    </tr>\n",
       "    <tr>\n",
       "      <th>1</th>\n",
       "      <td>0.161434</td>\n",
       "      <td>ETH</td>\n",
       "      <td>1</td>\n",
       "      <td>Tx</td>\n",
       "      <td>42:FFFFFFFFFFFF0200000010018100E00608004500003...</td>\n",
       "      <td>FCS:00000000</td>\n",
       "      <td>Ports:ECU</td>\n",
       "      <td>Sim:0</td>\n",
       "    </tr>\n",
       "    <tr>\n",
       "      <th>2</th>\n",
       "      <td>1.161448</td>\n",
       "      <td>ETH</td>\n",
       "      <td>1</td>\n",
       "      <td>Rx</td>\n",
       "      <td>42:FFFFFFFFFFFF0200000010018100E00608004500003...</td>\n",
       "      <td>FCS:eb00c426</td>\n",
       "      <td>Ports:Port5</td>\n",
       "      <td>Sim:0</td>\n",
       "    </tr>\n",
       "    <tr>\n",
       "      <th>3</th>\n",
       "      <td>1.161449</td>\n",
       "      <td>ETH</td>\n",
       "      <td>1</td>\n",
       "      <td>Tx</td>\n",
       "      <td>42:FFFFFFFFFFFF0200000010018100E00608004500003...</td>\n",
       "      <td>FCS:00000000</td>\n",
       "      <td>Ports:ECU</td>\n",
       "      <td>Sim:0</td>\n",
       "    </tr>\n",
       "    <tr>\n",
       "      <th>4</th>\n",
       "      <td>2.161462</td>\n",
       "      <td>ETH</td>\n",
       "      <td>1</td>\n",
       "      <td>Rx</td>\n",
       "      <td>42:FFFFFFFFFFFF0200000010018100E00608004500003...</td>\n",
       "      <td>FCS:c0402bfc</td>\n",
       "      <td>Ports:Port5</td>\n",
       "      <td>Sim:0</td>\n",
       "    </tr>\n",
       "  </tbody>\n",
       "</table>\n",
       "</div>"
      ],
      "text/plain": [
       "         ts type  ch tx_rx                                               data  \\\n",
       "0  0.161434  ETH   1    Rx  42:FFFFFFFFFFFF0200000010018100E00608004500003...   \n",
       "1  0.161434  ETH   1    Tx  42:FFFFFFFFFFFF0200000010018100E00608004500003...   \n",
       "2  1.161448  ETH   1    Rx  42:FFFFFFFFFFFF0200000010018100E00608004500003...   \n",
       "3  1.161449  ETH   1    Tx  42:FFFFFFFFFFFF0200000010018100E00608004500003...   \n",
       "4  2.161462  ETH   1    Rx  42:FFFFFFFFFFFF0200000010018100E00608004500003...   \n",
       "\n",
       "            fcs         port    sim  \n",
       "0  FCS:233b7b26  Ports:Port5  Sim:0  \n",
       "1  FCS:00000000    Ports:ECU  Sim:0  \n",
       "2  FCS:eb00c426  Ports:Port5  Sim:0  \n",
       "3  FCS:00000000    Ports:ECU  Sim:0  \n",
       "4  FCS:c0402bfc  Ports:Port5  Sim:0  "
      ]
     },
     "execution_count": 11,
     "metadata": {},
     "output_type": "execute_result"
    }
   ],
   "source": [
    "df.head(5) # Display the first 5 rows for verification"
   ]
  },
  {
   "cell_type": "markdown",
   "id": "5bae7823",
   "metadata": {},
   "source": [
    "## obd_ethernet_log.asc 처리리"
   ]
  },
  {
   "cell_type": "code",
   "execution_count": 12,
   "id": "12e8c528",
   "metadata": {},
   "outputs": [],
   "source": [
    "file_asc = Path('.').absolute()/'asc'/'obd_ethernet_log.asc'\n",
    "df = lines_oi_to_new_asc_and_xlsx(file_asc)\n"
   ]
  },
  {
   "cell_type": "code",
   "execution_count": 13,
   "id": "7752b1bd",
   "metadata": {},
   "outputs": [
    {
     "data": {
      "application/vnd.microsoft.datawrangler.viewer.v0+json": {
       "columns": [
        {
         "name": "index",
         "rawType": "int64",
         "type": "integer"
        },
        {
         "name": "ts",
         "rawType": "float64",
         "type": "float"
        },
        {
         "name": "type",
         "rawType": "object",
         "type": "string"
        },
        {
         "name": "ch",
         "rawType": "int64",
         "type": "integer"
        },
        {
         "name": "tx_rx",
         "rawType": "object",
         "type": "string"
        },
        {
         "name": "data",
         "rawType": "object",
         "type": "string"
        },
        {
         "name": "fcs",
         "rawType": "object",
         "type": "string"
        },
        {
         "name": "port",
         "rawType": "object",
         "type": "string"
        },
        {
         "name": "sim",
         "rawType": "object",
         "type": "string"
        }
       ],
       "conversionMethod": "pd.DataFrame",
       "ref": "fc72718d-b3e8-4f5d-868d-855f68e5843e",
       "rows": [
        [
         "0",
         "0.257025",
         "ETH",
         "1",
         "Rx",
         "46:333300000002A81374BD389D86DD6000000000103AFFFE800000000000004C705F11449FCF51FF0200000000000000000000000000028500674D000000000101A81374BD389D",
         "FCS:734d6816",
         "Ports:Port6",
         "Sim:0"
        ],
        [
         "1",
         "0.257025",
         "ETH",
         "1",
         "Tx",
         "46:333300000002A81374BD389D86DD6000000000103AFFFE800000000000004C705F11449FCF51FF0200000000000000000000000000028500674D000000000101A81374BD389D",
         "FCS:00000000",
         "Ports:ECU",
         "Sim:0"
        ],
        [
         "2",
         "0.257032",
         "ETH",
         "1",
         "Tx",
         "46:333300000002A81374BD389D86DD6000000000103AFFFE800000000000004C705F11449FCF51FF0200000000000000000000000000028500674D000000000101A81374BD389D",
         "FCS:734d6816",
         "Ports:Port5",
         "Sim:0"
        ],
        [
         "3",
         "0.272157",
         "ETH",
         "1",
         "Rx",
         "9d:333300010002A81374BD389D86DD60054E1700671101FE800000000000004C705F11449FCF51FF0200000000000000000000000100020222022300672D4501D30E160008000202BF0001000E000100012A621DD5A81374BD389D0003000C0DA81374000000000000000000270011000F4445534B544F502D4B524E4E5330370010000E0000013700084D53465420352E30000600080011001700180027",
         "FCS:40a51d09",
         "Ports:Port6",
         "Sim:0"
        ],
        [
         "4",
         "0.272157",
         "ETH",
         "1",
         "Tx",
         "9d:333300010002A81374BD389D86DD60054E1700671101FE800000000000004C705F11449FCF51FF0200000000000000000000000100020222022300672D4501D30E160008000202BF0001000E000100012A621DD5A81374BD389D0003000C0DA81374000000000000000000270011000F4445534B544F502D4B524E4E5330370010000E0000013700084D53465420352E30000600080011001700180027",
         "FCS:00000000",
         "Ports:ECU",
         "Sim:0"
        ]
       ],
       "shape": {
        "columns": 8,
        "rows": 5
       }
      },
      "text/html": [
       "<div>\n",
       "<style scoped>\n",
       "    .dataframe tbody tr th:only-of-type {\n",
       "        vertical-align: middle;\n",
       "    }\n",
       "\n",
       "    .dataframe tbody tr th {\n",
       "        vertical-align: top;\n",
       "    }\n",
       "\n",
       "    .dataframe thead th {\n",
       "        text-align: right;\n",
       "    }\n",
       "</style>\n",
       "<table border=\"1\" class=\"dataframe\">\n",
       "  <thead>\n",
       "    <tr style=\"text-align: right;\">\n",
       "      <th></th>\n",
       "      <th>ts</th>\n",
       "      <th>type</th>\n",
       "      <th>ch</th>\n",
       "      <th>tx_rx</th>\n",
       "      <th>data</th>\n",
       "      <th>fcs</th>\n",
       "      <th>port</th>\n",
       "      <th>sim</th>\n",
       "    </tr>\n",
       "  </thead>\n",
       "  <tbody>\n",
       "    <tr>\n",
       "      <th>0</th>\n",
       "      <td>0.257025</td>\n",
       "      <td>ETH</td>\n",
       "      <td>1</td>\n",
       "      <td>Rx</td>\n",
       "      <td>46:333300000002A81374BD389D86DD6000000000103AF...</td>\n",
       "      <td>FCS:734d6816</td>\n",
       "      <td>Ports:Port6</td>\n",
       "      <td>Sim:0</td>\n",
       "    </tr>\n",
       "    <tr>\n",
       "      <th>1</th>\n",
       "      <td>0.257025</td>\n",
       "      <td>ETH</td>\n",
       "      <td>1</td>\n",
       "      <td>Tx</td>\n",
       "      <td>46:333300000002A81374BD389D86DD6000000000103AF...</td>\n",
       "      <td>FCS:00000000</td>\n",
       "      <td>Ports:ECU</td>\n",
       "      <td>Sim:0</td>\n",
       "    </tr>\n",
       "    <tr>\n",
       "      <th>2</th>\n",
       "      <td>0.257032</td>\n",
       "      <td>ETH</td>\n",
       "      <td>1</td>\n",
       "      <td>Tx</td>\n",
       "      <td>46:333300000002A81374BD389D86DD6000000000103AF...</td>\n",
       "      <td>FCS:734d6816</td>\n",
       "      <td>Ports:Port5</td>\n",
       "      <td>Sim:0</td>\n",
       "    </tr>\n",
       "    <tr>\n",
       "      <th>3</th>\n",
       "      <td>0.272157</td>\n",
       "      <td>ETH</td>\n",
       "      <td>1</td>\n",
       "      <td>Rx</td>\n",
       "      <td>9d:333300010002A81374BD389D86DD60054E170067110...</td>\n",
       "      <td>FCS:40a51d09</td>\n",
       "      <td>Ports:Port6</td>\n",
       "      <td>Sim:0</td>\n",
       "    </tr>\n",
       "    <tr>\n",
       "      <th>4</th>\n",
       "      <td>0.272157</td>\n",
       "      <td>ETH</td>\n",
       "      <td>1</td>\n",
       "      <td>Tx</td>\n",
       "      <td>9d:333300010002A81374BD389D86DD60054E170067110...</td>\n",
       "      <td>FCS:00000000</td>\n",
       "      <td>Ports:ECU</td>\n",
       "      <td>Sim:0</td>\n",
       "    </tr>\n",
       "  </tbody>\n",
       "</table>\n",
       "</div>"
      ],
      "text/plain": [
       "         ts type  ch tx_rx                                               data  \\\n",
       "0  0.257025  ETH   1    Rx  46:333300000002A81374BD389D86DD6000000000103AF...   \n",
       "1  0.257025  ETH   1    Tx  46:333300000002A81374BD389D86DD6000000000103AF...   \n",
       "2  0.257032  ETH   1    Tx  46:333300000002A81374BD389D86DD6000000000103AF...   \n",
       "3  0.272157  ETH   1    Rx  9d:333300010002A81374BD389D86DD60054E170067110...   \n",
       "4  0.272157  ETH   1    Tx  9d:333300010002A81374BD389D86DD60054E170067110...   \n",
       "\n",
       "            fcs         port    sim  \n",
       "0  FCS:734d6816  Ports:Port6  Sim:0  \n",
       "1  FCS:00000000    Ports:ECU  Sim:0  \n",
       "2  FCS:734d6816  Ports:Port5  Sim:0  \n",
       "3  FCS:40a51d09  Ports:Port6  Sim:0  \n",
       "4  FCS:00000000    Ports:ECU  Sim:0  "
      ]
     },
     "execution_count": 13,
     "metadata": {},
     "output_type": "execute_result"
    }
   ],
   "source": [
    "df.head(5) # Display the first 5 rows for verification"
   ]
  }
 ],
 "metadata": {
  "kernelspec": {
   "display_name": "Python 3",
   "language": "python",
   "name": "python3"
  },
  "language_info": {
   "codemirror_mode": {
    "name": "ipython",
    "version": 3
   },
   "file_extension": ".py",
   "mimetype": "text/x-python",
   "name": "python",
   "nbconvert_exporter": "python",
   "pygments_lexer": "ipython3",
   "version": "3.12.5"
  }
 },
 "nbformat": 4,
 "nbformat_minor": 5
}
