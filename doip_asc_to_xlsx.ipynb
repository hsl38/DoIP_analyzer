{
 "cells": [
  {
   "cell_type": "markdown",
   "id": "1d59b9ae",
   "metadata": {},
   "source": [
    "# DoIP asc 데이터 파일을 xlsx로 변환하기\n",
    "- DoIP 통신 데이터가 저장된 asc 파일을 읽는다.\n",
    "- 이더넷 메시지가 있는 줄만 추출한다. \n",
    "- 각 줄을 구성 요소별로 분리한다. \n",
    "- 각 줄을 행으로 요소를 열로 하여 xlsx에 저장한다. "
   ]
  },
  {
   "cell_type": "code",
   "execution_count": 1,
   "id": "b40e0ea4",
   "metadata": {},
   "outputs": [],
   "source": [
    "# import\n",
    "from pathlib import Path\n",
    "import pandas as pd"
   ]
  },
  {
   "cell_type": "code",
   "execution_count": 2,
   "id": "2563c913",
   "metadata": {},
   "outputs": [],
   "source": [
    "# asc 파일을 줄 별로 읽어오기\n",
    "dir_asc = Path('.').absolute()/'asc'\n",
    "file_asc = dir_asc/'obd_ethernet_log.asc'\n",
    "with open(file_asc, \"r\") as file:\n",
    "    lines = file.readlines()"
   ]
  },
  {
   "cell_type": "code",
   "execution_count": 3,
   "id": "4ce6d9cd",
   "metadata": {},
   "outputs": [
    {
     "data": {
      "text/plain": [
       "['date Fri Sep 13 02:57:32.035 pm 2024\\n',\n",
       " 'base hex  timestamps absolute\\n',\n",
       " 'internal events logged\\n',\n",
       " '// version 16.2.0\\n',\n",
       " '// Measurement UUID: 8f6e9e0a-7641-444b-9606-158020c610f2\\n',\n",
       " 'Begin TriggerBlock Fri Sep 13 02:57:32.035 pm 2024\\n',\n",
       " '   0.000000 Start of measurement\\n',\n",
       " '   0.000184 ETH 1 STAT Link:Link_up Ports:ECU\\n',\n",
       " '   0.000464 ETH 1 STAT Link:Link_up LinkSpeed:100Mbit/s Physical:IEEE802.3 Duplex:Full MDI:Crossover Connector:RJ45 Ports:Port5\\n',\n",
       " '   0.000559 ETH 1 STAT Link:Link_up LinkSpeed:1000Mbit/s Physical:IEEE802.3 Duplex:Full MDI:Direct Connector:RJ45 BRClockMode:Slave Ports:Port6\\n',\n",
       " '   0.089961 ETH 1 BUSSTATISTIC HwRxPkts:0 HwTxPkts:0 HwRxError:0 HwTxError:0 HwRxBytes:0 HwTxBytes:0 HwRxNoBuffer:0 HwSQIValue:6 Ports:ECU\\n',\n",
       " '   0.100263 ETH 1 BUSSTATISTIC HwRxPkts:0 HwTxPkts:0 HwRxError:0 HwTxError:0 HwRxBytes:0 HwTxBytes:0 HwRxNoBuffer:0 HwSQIValue:6 Ports:Port5\\n',\n",
       " '   0.100373 ETH 1 BUSSTATISTIC HwRxPkts:0 HwTxPkts:0 HwRxError:0 HwTxError:0 HwRxBytes:0 HwTxBytes:0 HwRxNoBuffer:0 HwSQIValue:6 Ports:Port6\\n',\n",
       " '   0.189962 ETH 1 BUSSTATISTIC HwRxPkts:0 HwTxPkts:0 HwRxError:0 HwTxError:0 HwRxBytes:0 HwTxBytes:0 HwRxNoBuffer:0 HwSQIValue:6 Ports:ECU\\n',\n",
       " '   0.200263 ETH 1 BUSSTATISTIC HwRxPkts:0 HwTxPkts:0 HwRxError:0 HwTxError:0 HwRxBytes:0 HwTxBytes:0 HwRxNoBuffer:0 HwSQIValue:6 Ports:Port5\\n',\n",
       " '   0.200374 ETH 1 BUSSTATISTIC HwRxPkts:0 HwTxPkts:0 HwRxError:0 HwTxError:0 HwRxBytes:0 HwTxBytes:0 HwRxNoBuffer:0 HwSQIValue:6 Ports:Port6\\n',\n",
       " '   0.257025  ETH 1 Rx     46:333300000002A81374BD389D86DD6000000000103AFFFE800000000000004C705F11449FCF51FF0200000000000000000000000000028500674D000000000101A81374BD389D FCS:734d6816 Ports:Port6 Sim:0\\n',\n",
       " '   0.257025  ETH 1 Tx     46:333300000002A81374BD389D86DD6000000000103AFFFE800000000000004C705F11449FCF51FF0200000000000000000000000000028500674D000000000101A81374BD389D Ports:ECU Sim:0\\n',\n",
       " '   0.257032  ETH 1 Tx     46:333300000002A81374BD389D86DD6000000000103AFFFE800000000000004C705F11449FCF51FF0200000000000000000000000000028500674D000000000101A81374BD389D FCS:734d6816 Ports:Port5 Sim:0\\n',\n",
       " '   0.272157  ETH 1 Rx     9d:333300010002A81374BD389D86DD60054E1700671101FE800000000000004C705F11449FCF51FF0200000000000000000000000100020222022300672D4501D30E160008000202BF0001000E000100012A621DD5A81374BD389D0003000C0DA81374000000000000000000270011000F4445534B544F502D4B524E4E5330370010000E0000013700084D53465420352E30000600080011001700180027 FCS:40a51d09 Ports:Port6 Sim:0\\n',\n",
       " '   0.272157  ETH 1 Tx     9d:333300010002A81374BD389D86DD60054E1700671101FE800000000000004C705F11449FCF51FF0200000000000000000000000100020222022300672D4501D30E160008000202BF0001000E000100012A621DD5A81374BD389D0003000C0DA81374000000000000000000270011000F4445534B544F502D4B524E4E5330370010000E0000013700084D53465420352E30000600080011001700180027 Ports:ECU Sim:0\\n',\n",
       " '   0.272170  ETH 1 Tx     9d:333300010002A81374BD389D86DD60054E1700671101FE800000000000004C705F11449FCF51FF0200000000000000000000000100020222022300672D4501D30E160008000202BF0001000E000100012A621DD5A81374BD389D0003000C0DA81374000000000000000000270011000F4445534B544F502D4B524E4E5330370010000E0000013700084D53465420352E30000600080011001700180027 FCS:40a51d09 Ports:Port5 Sim:0\\n',\n",
       " '   0.289962 ETH 1 BUSSTATISTIC HwRxPkts:0 HwTxPkts:2 HwRxError:0 HwTxError:0 HwRxBytes:0 HwTxBytes:251 HwRxNoBuffer:0 HwSQIValue:6 Ports:ECU\\n',\n",
       " '   0.300264 ETH 1 BUSSTATISTIC HwRxPkts:0 HwTxPkts:2 HwRxError:0 HwTxError:0 HwRxBytes:0 HwTxBytes:251 HwRxNoBuffer:0 HwSQIValue:6 Ports:Port5\\n',\n",
       " '   0.300375 ETH 1 BUSSTATISTIC HwRxPkts:2 HwTxPkts:0 HwRxError:0 HwTxError:0 HwRxBytes:251 HwTxBytes:0 HwRxNoBuffer:0 HwSQIValue:6 Ports:Port6\\n']"
      ]
     },
     "execution_count": 3,
     "metadata": {},
     "output_type": "execute_result"
    }
   ],
   "source": [
    "# asc 파일의 내용을 본다.\n",
    "lines[:25]"
   ]
  },
  {
   "cell_type": "code",
   "execution_count": 4,
   "id": "30224b7c",
   "metadata": {},
   "outputs": [],
   "source": [
    "# 분석 대상 라인들만 추출한다.\n",
    "\n",
    "lines_oi = []   # lines of interest\n",
    "elements_oi = []    # elements of interest\n",
    "for line in lines:\n",
    "    elements = line.strip().split()\n",
    "\n",
    "    interesting = True\n",
    "\n",
    "    # 첫 element가 타임스탬프가 아니면 분석 대상이 아니다. \n",
    "    try:\n",
    "        ts = float(elements[0])\n",
    "    except ValueError:\n",
    "        interesting = False\n",
    "\n",
    "    # Start, STAT, BUSSTATISTIC가 포함된 라인은 분석 대상이 아니다. \n",
    "    for element in elements:\n",
    "        if ('STAT' in element) or ('BUSSTATISTIC' in element) or ('Start' in element):\n",
    "            interesting = False\n",
    "            break\n",
    "\n",
    "    # 분석 대상을 lines_oi에 추가한다.\n",
    "    if interesting:\n",
    "\n",
    "        # 3번째 element가 Tx인 경우, FCS가 없는 경우가 있다. 이 경우, FCS를 추가한다.\n",
    "        if elements[3] == 'Tx':\n",
    "            fcs_found = False\n",
    "\n",
    "            for element in elements[4:]:\n",
    "                if 'FCS' in element:\n",
    "                    fcs_found = True\n",
    "                    break\n",
    "\n",
    "            if not fcs_found:\n",
    "                elements.insert(5, 'FCS:00000000')\n",
    "\n",
    "        elements_oi.append(elements)\n",
    "        lines_oi.append(line.strip())"
   ]
  },
  {
   "cell_type": "code",
   "execution_count": 5,
   "id": "a0bc6eec",
   "metadata": {},
   "outputs": [
    {
     "data": {
      "text/plain": [
       "['0.257025  ETH 1 Rx     46:333300000002A81374BD389D86DD6000000000103AFFFE800000000000004C705F11449FCF51FF0200000000000000000000000000028500674D000000000101A81374BD389D FCS:734d6816 Ports:Port6 Sim:0',\n",
       " '0.257025  ETH 1 Tx     46:333300000002A81374BD389D86DD6000000000103AFFFE800000000000004C705F11449FCF51FF0200000000000000000000000000028500674D000000000101A81374BD389D Ports:ECU Sim:0',\n",
       " '0.257032  ETH 1 Tx     46:333300000002A81374BD389D86DD6000000000103AFFFE800000000000004C705F11449FCF51FF0200000000000000000000000000028500674D000000000101A81374BD389D FCS:734d6816 Ports:Port5 Sim:0',\n",
       " '0.272157  ETH 1 Rx     9d:333300010002A81374BD389D86DD60054E1700671101FE800000000000004C705F11449FCF51FF0200000000000000000000000100020222022300672D4501D30E160008000202BF0001000E000100012A621DD5A81374BD389D0003000C0DA81374000000000000000000270011000F4445534B544F502D4B524E4E5330370010000E0000013700084D53465420352E30000600080011001700180027 FCS:40a51d09 Ports:Port6 Sim:0',\n",
       " '0.272157  ETH 1 Tx     9d:333300010002A81374BD389D86DD60054E1700671101FE800000000000004C705F11449FCF51FF0200000000000000000000000100020222022300672D4501D30E160008000202BF0001000E000100012A621DD5A81374BD389D0003000C0DA81374000000000000000000270011000F4445534B544F502D4B524E4E5330370010000E0000013700084D53465420352E30000600080011001700180027 Ports:ECU Sim:0']"
      ]
     },
     "execution_count": 5,
     "metadata": {},
     "output_type": "execute_result"
    }
   ],
   "source": [
    "# linses_oi의 내용을 본다.\n",
    "lines_oi[:5]"
   ]
  },
  {
   "cell_type": "code",
   "execution_count": 6,
   "id": "dfea5ea3",
   "metadata": {},
   "outputs": [
    {
     "data": {
      "text/plain": [
       "[['0.257025',\n",
       "  'ETH',\n",
       "  '1',\n",
       "  'Rx',\n",
       "  '46:333300000002A81374BD389D86DD6000000000103AFFFE800000000000004C705F11449FCF51FF0200000000000000000000000000028500674D000000000101A81374BD389D',\n",
       "  'FCS:734d6816',\n",
       "  'Ports:Port6',\n",
       "  'Sim:0'],\n",
       " ['0.257025',\n",
       "  'ETH',\n",
       "  '1',\n",
       "  'Tx',\n",
       "  '46:333300000002A81374BD389D86DD6000000000103AFFFE800000000000004C705F11449FCF51FF0200000000000000000000000000028500674D000000000101A81374BD389D',\n",
       "  'FCS:00000000',\n",
       "  'Ports:ECU',\n",
       "  'Sim:0'],\n",
       " ['0.257032',\n",
       "  'ETH',\n",
       "  '1',\n",
       "  'Tx',\n",
       "  '46:333300000002A81374BD389D86DD6000000000103AFFFE800000000000004C705F11449FCF51FF0200000000000000000000000000028500674D000000000101A81374BD389D',\n",
       "  'FCS:734d6816',\n",
       "  'Ports:Port5',\n",
       "  'Sim:0'],\n",
       " ['0.272157',\n",
       "  'ETH',\n",
       "  '1',\n",
       "  'Rx',\n",
       "  '9d:333300010002A81374BD389D86DD60054E1700671101FE800000000000004C705F11449FCF51FF0200000000000000000000000100020222022300672D4501D30E160008000202BF0001000E000100012A621DD5A81374BD389D0003000C0DA81374000000000000000000270011000F4445534B544F502D4B524E4E5330370010000E0000013700084D53465420352E30000600080011001700180027',\n",
       "  'FCS:40a51d09',\n",
       "  'Ports:Port6',\n",
       "  'Sim:0'],\n",
       " ['0.272157',\n",
       "  'ETH',\n",
       "  '1',\n",
       "  'Tx',\n",
       "  '9d:333300010002A81374BD389D86DD60054E1700671101FE800000000000004C705F11449FCF51FF0200000000000000000000000100020222022300672D4501D30E160008000202BF0001000E000100012A621DD5A81374BD389D0003000C0DA81374000000000000000000270011000F4445534B544F502D4B524E4E5330370010000E0000013700084D53465420352E30000600080011001700180027',\n",
       "  'FCS:00000000',\n",
       "  'Ports:ECU',\n",
       "  'Sim:0']]"
      ]
     },
     "execution_count": 6,
     "metadata": {},
     "output_type": "execute_result"
    }
   ],
   "source": [
    "# elements_oi의 내용을 본다.\n",
    "elements_oi[:5]"
   ]
  },
  {
   "cell_type": "code",
   "execution_count": 7,
   "id": "4d465746",
   "metadata": {},
   "outputs": [],
   "source": [
    "# lines_oi를 파일로 저장한다. 위에서 한 데이터 처리를 다시 안 해도 되도록.\n",
    "file_new_asc = file_asc.with_suffix('.new.asc')\n",
    "with open(file_new_asc, \"w\") as file:\n",
    "    for line in lines_oi:\n",
    "        file.write(line + \"\\n\")"
   ]
  },
  {
   "cell_type": "code",
   "execution_count": 8,
   "id": "e52789f2",
   "metadata": {},
   "outputs": [],
   "source": [
    "# elememts_oi를 DataFrame으로 변환하기\n",
    "# asc의 한 줄에는 8개의 element가 있다.\n",
    "# 0: ts, 1: type, 2: ch, 3: tx/rx, 4: data, 5: fcs, 6: port, 7: sim\n",
    "df = pd.DataFrame(elements_oi, columns=['ts', 'type', 'ch', 'tx_rx', 'data', 'fcs', 'port', 'sim'])\n",
    "df['ts'] = df['ts'].astype(float)\n",
    "df['ch'] = df['ch'].astype(int)"
   ]
  },
  {
   "cell_type": "code",
   "execution_count": 9,
   "id": "d75472c4",
   "metadata": {},
   "outputs": [
    {
     "data": {
      "application/vnd.microsoft.datawrangler.viewer.v0+json": {
       "columns": [
        {
         "name": "index",
         "rawType": "int64",
         "type": "integer"
        },
        {
         "name": "ts",
         "rawType": "float64",
         "type": "float"
        },
        {
         "name": "type",
         "rawType": "object",
         "type": "string"
        },
        {
         "name": "ch",
         "rawType": "int64",
         "type": "integer"
        },
        {
         "name": "tx_rx",
         "rawType": "object",
         "type": "string"
        },
        {
         "name": "data",
         "rawType": "object",
         "type": "string"
        },
        {
         "name": "fcs",
         "rawType": "object",
         "type": "string"
        },
        {
         "name": "port",
         "rawType": "object",
         "type": "string"
        },
        {
         "name": "sim",
         "rawType": "object",
         "type": "string"
        }
       ],
       "conversionMethod": "pd.DataFrame",
       "ref": "abb7eacf-342d-47bb-aa6e-d4e822a9a786",
       "rows": [
        [
         "0",
         "0.257025",
         "ETH",
         "1",
         "Rx",
         "46:333300000002A81374BD389D86DD6000000000103AFFFE800000000000004C705F11449FCF51FF0200000000000000000000000000028500674D000000000101A81374BD389D",
         "FCS:734d6816",
         "Ports:Port6",
         "Sim:0"
        ],
        [
         "1",
         "0.257025",
         "ETH",
         "1",
         "Tx",
         "46:333300000002A81374BD389D86DD6000000000103AFFFE800000000000004C705F11449FCF51FF0200000000000000000000000000028500674D000000000101A81374BD389D",
         "FCS:00000000",
         "Ports:ECU",
         "Sim:0"
        ],
        [
         "2",
         "0.257032",
         "ETH",
         "1",
         "Tx",
         "46:333300000002A81374BD389D86DD6000000000103AFFFE800000000000004C705F11449FCF51FF0200000000000000000000000000028500674D000000000101A81374BD389D",
         "FCS:734d6816",
         "Ports:Port5",
         "Sim:0"
        ],
        [
         "3",
         "0.272157",
         "ETH",
         "1",
         "Rx",
         "9d:333300010002A81374BD389D86DD60054E1700671101FE800000000000004C705F11449FCF51FF0200000000000000000000000100020222022300672D4501D30E160008000202BF0001000E000100012A621DD5A81374BD389D0003000C0DA81374000000000000000000270011000F4445534B544F502D4B524E4E5330370010000E0000013700084D53465420352E30000600080011001700180027",
         "FCS:40a51d09",
         "Ports:Port6",
         "Sim:0"
        ],
        [
         "4",
         "0.272157",
         "ETH",
         "1",
         "Tx",
         "9d:333300010002A81374BD389D86DD60054E1700671101FE800000000000004C705F11449FCF51FF0200000000000000000000000100020222022300672D4501D30E160008000202BF0001000E000100012A621DD5A81374BD389D0003000C0DA81374000000000000000000270011000F4445534B544F502D4B524E4E5330370010000E0000013700084D53465420352E30000600080011001700180027",
         "FCS:00000000",
         "Ports:ECU",
         "Sim:0"
        ]
       ],
       "shape": {
        "columns": 8,
        "rows": 5
       }
      },
      "text/html": [
       "<div>\n",
       "<style scoped>\n",
       "    .dataframe tbody tr th:only-of-type {\n",
       "        vertical-align: middle;\n",
       "    }\n",
       "\n",
       "    .dataframe tbody tr th {\n",
       "        vertical-align: top;\n",
       "    }\n",
       "\n",
       "    .dataframe thead th {\n",
       "        text-align: right;\n",
       "    }\n",
       "</style>\n",
       "<table border=\"1\" class=\"dataframe\">\n",
       "  <thead>\n",
       "    <tr style=\"text-align: right;\">\n",
       "      <th></th>\n",
       "      <th>ts</th>\n",
       "      <th>type</th>\n",
       "      <th>ch</th>\n",
       "      <th>tx_rx</th>\n",
       "      <th>data</th>\n",
       "      <th>fcs</th>\n",
       "      <th>port</th>\n",
       "      <th>sim</th>\n",
       "    </tr>\n",
       "  </thead>\n",
       "  <tbody>\n",
       "    <tr>\n",
       "      <th>0</th>\n",
       "      <td>0.257025</td>\n",
       "      <td>ETH</td>\n",
       "      <td>1</td>\n",
       "      <td>Rx</td>\n",
       "      <td>46:333300000002A81374BD389D86DD6000000000103AF...</td>\n",
       "      <td>FCS:734d6816</td>\n",
       "      <td>Ports:Port6</td>\n",
       "      <td>Sim:0</td>\n",
       "    </tr>\n",
       "    <tr>\n",
       "      <th>1</th>\n",
       "      <td>0.257025</td>\n",
       "      <td>ETH</td>\n",
       "      <td>1</td>\n",
       "      <td>Tx</td>\n",
       "      <td>46:333300000002A81374BD389D86DD6000000000103AF...</td>\n",
       "      <td>FCS:00000000</td>\n",
       "      <td>Ports:ECU</td>\n",
       "      <td>Sim:0</td>\n",
       "    </tr>\n",
       "    <tr>\n",
       "      <th>2</th>\n",
       "      <td>0.257032</td>\n",
       "      <td>ETH</td>\n",
       "      <td>1</td>\n",
       "      <td>Tx</td>\n",
       "      <td>46:333300000002A81374BD389D86DD6000000000103AF...</td>\n",
       "      <td>FCS:734d6816</td>\n",
       "      <td>Ports:Port5</td>\n",
       "      <td>Sim:0</td>\n",
       "    </tr>\n",
       "    <tr>\n",
       "      <th>3</th>\n",
       "      <td>0.272157</td>\n",
       "      <td>ETH</td>\n",
       "      <td>1</td>\n",
       "      <td>Rx</td>\n",
       "      <td>9d:333300010002A81374BD389D86DD60054E170067110...</td>\n",
       "      <td>FCS:40a51d09</td>\n",
       "      <td>Ports:Port6</td>\n",
       "      <td>Sim:0</td>\n",
       "    </tr>\n",
       "    <tr>\n",
       "      <th>4</th>\n",
       "      <td>0.272157</td>\n",
       "      <td>ETH</td>\n",
       "      <td>1</td>\n",
       "      <td>Tx</td>\n",
       "      <td>9d:333300010002A81374BD389D86DD60054E170067110...</td>\n",
       "      <td>FCS:00000000</td>\n",
       "      <td>Ports:ECU</td>\n",
       "      <td>Sim:0</td>\n",
       "    </tr>\n",
       "  </tbody>\n",
       "</table>\n",
       "</div>"
      ],
      "text/plain": [
       "         ts type  ch tx_rx                                               data  \\\n",
       "0  0.257025  ETH   1    Rx  46:333300000002A81374BD389D86DD6000000000103AF...   \n",
       "1  0.257025  ETH   1    Tx  46:333300000002A81374BD389D86DD6000000000103AF...   \n",
       "2  0.257032  ETH   1    Tx  46:333300000002A81374BD389D86DD6000000000103AF...   \n",
       "3  0.272157  ETH   1    Rx  9d:333300010002A81374BD389D86DD60054E170067110...   \n",
       "4  0.272157  ETH   1    Tx  9d:333300010002A81374BD389D86DD60054E170067110...   \n",
       "\n",
       "            fcs         port    sim  \n",
       "0  FCS:734d6816  Ports:Port6  Sim:0  \n",
       "1  FCS:00000000    Ports:ECU  Sim:0  \n",
       "2  FCS:734d6816  Ports:Port5  Sim:0  \n",
       "3  FCS:40a51d09  Ports:Port6  Sim:0  \n",
       "4  FCS:00000000    Ports:ECU  Sim:0  "
      ]
     },
     "execution_count": 9,
     "metadata": {},
     "output_type": "execute_result"
    }
   ],
   "source": [
    "# df의 내용을 본다.\n",
    "df.head(5)"
   ]
  },
  {
   "cell_type": "code",
   "execution_count": 10,
   "id": "d548ae4a",
   "metadata": {},
   "outputs": [],
   "source": [
    "# df를 xlsx로 저장한다. \n",
    "df.to_excel(file_new_asc.with_suffix('.xlsx'), index=False)"
   ]
  }
 ],
 "metadata": {
  "kernelspec": {
   "display_name": "Python 3",
   "language": "python",
   "name": "python3"
  },
  "language_info": {
   "codemirror_mode": {
    "name": "ipython",
    "version": 3
   },
   "file_extension": ".py",
   "mimetype": "text/x-python",
   "name": "python",
   "nbconvert_exporter": "python",
   "pygments_lexer": "ipython3",
   "version": "3.12.5"
  }
 },
 "nbformat": 4,
 "nbformat_minor": 5
}
